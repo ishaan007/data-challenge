{
 "cells": [
  {
   "cell_type": "code",
   "execution_count": 1,
   "metadata": {
    "collapsed": true
   },
   "outputs": [],
   "source": [
    "import pandas as pd\n",
    "import pandasql as pdsql\n",
    "import os\n",
    "pysql = lambda q: pdsql.sqldf(q, globals())\n",
    "left= pd.read_csv('/home/ishaan/Desktop/cops/missing_val.csv')\n",
    "#print left.head(5)\n",
    "right=pd.read_csv('/home/ishaan/Desktop/cops/contains_val.csv')\n",
    "#print right.head(5)\n",
    "#rename columns of left to eliminate space from tables\n",
    "cols = left.columns\n",
    "cols = cols.map(lambda x: x.replace(' ', '_') if isinstance(x, (str, unicode)) else x)\n",
    "left.columns = cols\n",
    "#rename columns of right to eliminate space from tables\n",
    "cols = right.columns\n",
    "cols = cols.map(lambda x: x.replace(' ', '_') if isinstance(x, (str, unicode)) else x)\n",
    "right.columns = cols\n",
    "left['Survey_Date'] = pd.to_datetime(left['Survey_Date'])\n",
    "right['Survey_Start_Date'] = pd.to_datetime(right['Survey_Start_Date'])\n",
    "right['Survey_End_Date'] = pd.to_datetime(right['Survey_End_Date'])"
   ]
  },
  {
   "cell_type": "code",
   "execution_count": 2,
   "metadata": {
    "collapsed": false
   },
   "outputs": [
    {
     "name": "stdout",
     "output_type": "stream",
     "text": [
      "   Response_No  Tab_No Survey_Date  AC_Name  Mandal_Name  Village_Name\n",
      "0          202      35  2015-05-24      NaN          NaN           NaN\n",
      "1          203     400  2015-09-07      NaN          NaN           NaN\n",
      "2          206     498  2015-10-06      NaN          NaN           NaN\n",
      "3          206     487  2015-06-13      NaN          NaN           NaN\n",
      "4          207     455  2015-05-31      NaN          NaN           NaN\n",
      "5          207     487  2015-06-15      NaN          NaN           NaN\n",
      "6          208     358  2015-05-20      NaN          NaN           NaN\n",
      "7          209      60  2015-05-30      NaN          NaN           NaN\n",
      "8          210     369  2015-05-28      NaN          NaN           NaN\n",
      "9          212     283  2015-11-06      NaN          NaN           NaN\n"
     ]
    }
   ],
   "source": [
    "left_small=left\n",
    "print left_small.head(10)"
   ]
  },
  {
   "cell_type": "code",
   "execution_count": 3,
   "metadata": {
    "collapsed": true
   },
   "outputs": [],
   "source": [
    "for index, row in data.iterrows():\n",
    "    a= row.to_frame()\n",
    "    ret=right[(right[\"Tab_No\"] ==row[\"Tab_No\"]) & (right[\"Survey_Start_Date\"]<=row[\"Survey_Date\"])&(right[\"Survey_End_Date\"]>=row[\"Survey_Date\"])]\n",
    "    #if  not ret.empty:\n",
    "        #left_small.loc[index, 'Village_Name'] =ret[\"Village_Name\"]\n",
    "    if  not ret.empty:\n",
    "        left_small.loc[index, 'AC_Name'] =ret.values[0][0]\n",
    "        left_small.loc[index, 'Mandal_Name'] =ret.values[0][1]\n",
    "        left_small.loc[index, 'Village_Name'] =ret.values[0][2]\n",
    "left_small.to_csv('mapped.csv')\n"
   ]
  },
  {
   "cell_type": "code",
   "execution_count": 4,
   "metadata": {
    "collapsed": false
   },
   "outputs": [
    {
     "name": "stdout",
     "output_type": "stream",
     "text": [
      "   Response_No  Tab_No Survey_Date       AC_Name      Mandal_Name  \\\n",
      "0          202      35  2015-05-24      Tiruvuru     Vissannapeta   \n",
      "1          203     400  2015-09-07           NaN              NaN   \n",
      "2          206     498  2015-10-06           NaN              NaN   \n",
      "3          206     487  2015-06-13  Jaggaiahpeta  Penuganchiprolu   \n",
      "4          207     455  2015-05-31      Tiruvuru     Gampalagudem   \n",
      "5          207     487  2015-06-15  Jaggaiahpeta  Penuganchiprolu   \n",
      "6          208     358  2015-05-20     Mylavaram        Mylavaram   \n",
      "7          209      60  2015-05-30     Mylavaram    Ibrahimpatnam   \n",
      "8          210     369  2015-05-28     Mylavaram       Reddygudem   \n",
      "9          212     283  2015-11-06           NaN              NaN   \n",
      "\n",
      "      Village_Name  \n",
      "0        Maremanda  \n",
      "1              NaN  \n",
      "2              NaN  \n",
      "3  Penuganchiprolu  \n",
      "4       KOTHAPALLI  \n",
      "5  Penuganchiprolu  \n",
      "6        Pondugala  \n",
      "7    Thummalapalem  \n",
      "8     Moddulaparva  \n",
      "9              NaN  \n"
     ]
    }
   ],
   "source": [
    "print left_small.head(10)"
   ]
  },
  {
   "cell_type": "code",
   "execution_count": null,
   "metadata": {
    "collapsed": true
   },
   "outputs": [],
   "source": []
  }
 ],
 "metadata": {
  "kernelspec": {
   "display_name": "Python [Root]",
   "language": "python",
   "name": "Python [Root]"
  },
  "language_info": {
   "codemirror_mode": {
    "name": "ipython",
    "version": 2
   },
   "file_extension": ".py",
   "mimetype": "text/x-python",
   "name": "python",
   "nbconvert_exporter": "python",
   "pygments_lexer": "ipython2",
   "version": "2.7.12"
  }
 },
 "nbformat": 4,
 "nbformat_minor": 0
}
